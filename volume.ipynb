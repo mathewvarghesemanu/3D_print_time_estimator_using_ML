{
 "cells": [
  {
   "cell_type": "code",
   "execution_count": 19,
   "metadata": {},
   "outputs": [
    {
     "name": "stdout",
     "output_type": "stream",
     "text": [
      "Volume                                  = 7788.190306321008\n"
     ]
    }
   ],
   "source": [
    "import numpy as np\n",
    "from stl import mesh\n",
    "\n",
    "# Using an existing closed stl file:\n",
    "your_mesh = mesh.Mesh.from_file('1.stl')\n",
    "\n",
    "volume, cog, inertia = your_mesh.get_mass_properties()\n",
    "print(\"Volume                                  = {0}\".format(volume))"
   ]
  },
  {
   "cell_type": "code",
   "execution_count": 20,
   "metadata": {},
   "outputs": [],
   "source": [
    "infill=20\n",
    "layer_height=.2"
   ]
  },
  {
   "cell_type": "code",
   "execution_count": 21,
   "metadata": {},
   "outputs": [
    {
     "data": {
      "text/plain": [
       "(20.0, 20.0, 20.0)"
      ]
     },
     "execution_count": 21,
     "metadata": {},
     "output_type": "execute_result"
    }
   ],
   "source": [
    "x_dim=your_mesh.x.max()-your_mesh.x.min()\n",
    "y_dim=your_mesh.y.max()-your_mesh.y.min()\n",
    "z_dim=your_mesh.z.max()-your_mesh.z.min()\n",
    "dim=(x_dim,y_dim,z_dim)\n",
    "dim"
   ]
  },
  {
   "cell_type": "code",
   "execution_count": 22,
   "metadata": {},
   "outputs": [
    {
     "data": {
      "text/plain": [
       "11.133413604961287"
      ]
     },
     "execution_count": 22,
     "metadata": {},
     "output_type": "execute_result"
    }
   ],
   "source": [
    "import math\n",
    "h=z_dim\n",
    "r=math.sqrt(volume/(math.pi*h))\n",
    "r"
   ]
  },
  {
   "cell_type": "code",
   "execution_count": 24,
   "metadata": {},
   "outputs": [
    {
     "data": {
      "text/plain": [
       "(7788.190306321008, 20.0, 11.133413604961287, 20, 0.2)"
      ]
     },
     "execution_count": 24,
     "metadata": {},
     "output_type": "execute_result"
    }
   ],
   "source": [
    "learning_parameters=(volume,h,r,infill,layer_height)\n",
    "learning_parameters"
   ]
  },
  {
   "cell_type": "code",
   "execution_count": 25,
   "metadata": {},
   "outputs": [],
   "source": [
    "#slic3r-console --no-gui -o --load config.ini 1.stl"
   ]
  },
  {
   "cell_type": "code",
   "execution_count": null,
   "metadata": {},
   "outputs": [],
   "source": []
  }
 ],
 "metadata": {
  "kernelspec": {
   "display_name": "Python 3",
   "language": "python",
   "name": "python3"
  },
  "language_info": {
   "codemirror_mode": {
    "name": "ipython",
    "version": 3
   },
   "file_extension": ".py",
   "mimetype": "text/x-python",
   "name": "python",
   "nbconvert_exporter": "python",
   "pygments_lexer": "ipython3",
   "version": "3.8.3"
  }
 },
 "nbformat": 4,
 "nbformat_minor": 4
}
