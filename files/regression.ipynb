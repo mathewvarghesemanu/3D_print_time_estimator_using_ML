{
 "cells": [
  {
   "cell_type": "code",
   "execution_count": 82,
   "id": "southwest-equity",
   "metadata": {},
   "outputs": [],
   "source": [
    "#reading csv file as a dataframe\n",
    "import pandas as pd\n",
    "import numpy as np\n",
    "df=pd.read_csv(\"time_estimate.csv\",index_col='filename')\n",
    "import math\n",
    "import matplotlib.pyplot as plt"
   ]
  },
  {
   "cell_type": "code",
   "execution_count": 83,
   "id": "eligible-fence",
   "metadata": {},
   "outputs": [
    {
     "data": {
      "text/html": [
       "<div>\n",
       "<style scoped>\n",
       "    .dataframe tbody tr th:only-of-type {\n",
       "        vertical-align: middle;\n",
       "    }\n",
       "\n",
       "    .dataframe tbody tr th {\n",
       "        vertical-align: top;\n",
       "    }\n",
       "\n",
       "    .dataframe thead th {\n",
       "        text-align: right;\n",
       "    }\n",
       "</style>\n",
       "<table border=\"1\" class=\"dataframe\">\n",
       "  <thead>\n",
       "    <tr style=\"text-align: right;\">\n",
       "      <th></th>\n",
       "      <th>volume</th>\n",
       "      <th>model_height</th>\n",
       "      <th>model_radius</th>\n",
       "      <th>est_time</th>\n",
       "    </tr>\n",
       "    <tr>\n",
       "      <th>filename</th>\n",
       "      <th></th>\n",
       "      <th></th>\n",
       "      <th></th>\n",
       "      <th></th>\n",
       "    </tr>\n",
       "  </thead>\n",
       "  <tbody>\n",
       "    <tr>\n",
       "      <th>stls/1000042.stl</th>\n",
       "      <td>11271</td>\n",
       "      <td>5</td>\n",
       "      <td>26</td>\n",
       "      <td>31.0</td>\n",
       "    </tr>\n",
       "    <tr>\n",
       "      <th>stls/1000154.stl</th>\n",
       "      <td>5253</td>\n",
       "      <td>15</td>\n",
       "      <td>10</td>\n",
       "      <td>38.0</td>\n",
       "    </tr>\n",
       "    <tr>\n",
       "      <th>stls/1000195.stl</th>\n",
       "      <td>19228</td>\n",
       "      <td>10</td>\n",
       "      <td>24</td>\n",
       "      <td>63.0</td>\n",
       "    </tr>\n",
       "    <tr>\n",
       "      <th>stls/1000217.stl</th>\n",
       "      <td>22699</td>\n",
       "      <td>30</td>\n",
       "      <td>15</td>\n",
       "      <td>76.0</td>\n",
       "    </tr>\n",
       "    <tr>\n",
       "      <th>stls/1000293.stl</th>\n",
       "      <td>14374</td>\n",
       "      <td>18</td>\n",
       "      <td>15</td>\n",
       "      <td>64.0</td>\n",
       "    </tr>\n",
       "  </tbody>\n",
       "</table>\n",
       "</div>"
      ],
      "text/plain": [
       "                  volume  model_height  model_radius  est_time\n",
       "filename                                                      \n",
       "stls/1000042.stl   11271             5            26      31.0\n",
       "stls/1000154.stl    5253            15            10      38.0\n",
       "stls/1000195.stl   19228            10            24      63.0\n",
       "stls/1000217.stl   22699            30            15      76.0\n",
       "stls/1000293.stl   14374            18            15      64.0"
      ]
     },
     "execution_count": 83,
     "metadata": {},
     "output_type": "execute_result"
    }
   ],
   "source": [
    "df=df.iloc[:,1:]\n",
    "df.head()\n",
    "df['volume']=df['volume'].astype(int)\n",
    "df ['model_height']=df ['model_height'].astype(int)\n",
    "df['model_radius']=df['model_radius'].astype(int)\n",
    "df['infill']=df['infill'].astype(int)\n",
    "df=df[(df['volume']>1)]\n",
    "df=df [(df['model_height']>1)]\n",
    "df=df [(df['model_radius']>1)]\n",
    "df=df.drop(['infill','layer_height'],axis=1)\n",
    "df=df.dropna()\n",
    "df.head()"
   ]
  },
  {
   "cell_type": "code",
   "execution_count": 84,
   "id": "palestinian-wilderness",
   "metadata": {},
   "outputs": [
    {
     "name": "stdout",
     "output_type": "stream",
     "text": [
      "                  volume  model_height  model_radius\n",
      "filename                                            \n",
      "stls/1000042.stl   11271             5            26\n",
      "stls/1000154.stl    5253            15            10\n",
      "stls/1000195.stl   19228            10            24\n",
      "stls/1000217.stl   22699            30            15\n",
      "stls/1000293.stl   14374            18            15\n",
      "(25364, 3)\n",
      "                  est_time\n",
      "filename                  \n",
      "stls/1000042.stl      31.0\n",
      "stls/1000154.stl      38.0\n",
      "stls/1000195.stl      63.0\n",
      "stls/1000217.stl      76.0\n",
      "stls/1000293.stl      64.0\n",
      "(25364, 1)\n"
     ]
    }
   ],
   "source": [
    "x=df.iloc[:,:-1]\n",
    "y=df.iloc[:,-1:]\n",
    "print(x.head())\n",
    "print(x.shape)\n",
    "print(y.head())\n",
    "print(y.shape)\n"
   ]
  },
  {
   "cell_type": "code",
   "execution_count": 85,
   "id": "proprietary-holiday",
   "metadata": {},
   "outputs": [
    {
     "data": {
      "text/plain": [
       "<matplotlib.collections.PathCollection at 0x21a274a8610>"
      ]
     },
     "execution_count": 85,
     "metadata": {},
     "output_type": "execute_result"
    },
    {
     "data": {
      "image/png": "[encoded data removed]",
      "text/plain": [
       "<Figure size 432x288 with 1 Axes>"
      ]
     },
     "metadata": {
      "needs_background": "light"
     },
     "output_type": "display_data"
    }
   ],
   "source": [
    "plt.scatter(df[\"model_radius\"],df[\"volume\"])"
   ]
  },
  {
   "cell_type": "code",
   "execution_count": 86,
   "id": "piano-linux",
   "metadata": {},
   "outputs": [
    {
     "data": {
      "text/html": [
       "<div>\n",
       "<style scoped>\n",
       "    .dataframe tbody tr th:only-of-type {\n",
       "        vertical-align: middle;\n",
       "    }\n",
       "\n",
       "    .dataframe tbody tr th {\n",
       "        vertical-align: top;\n",
       "    }\n",
       "\n",
       "    .dataframe thead th {\n",
       "        text-align: right;\n",
       "    }\n",
       "</style>\n",
       "<table border=\"1\" class=\"dataframe\">\n",
       "  <thead>\n",
       "    <tr style=\"text-align: right;\">\n",
       "      <th></th>\n",
       "      <th>volume</th>\n",
       "      <th>model_height</th>\n",
       "      <th>model_radius</th>\n",
       "      <th>est_time</th>\n",
       "    </tr>\n",
       "  </thead>\n",
       "  <tbody>\n",
       "    <tr>\n",
       "      <th>count</th>\n",
       "      <td>2.536400e+04</td>\n",
       "      <td>25364.000000</td>\n",
       "      <td>25364.000000</td>\n",
       "      <td>25364.000000</td>\n",
       "    </tr>\n",
       "    <tr>\n",
       "      <th>mean</th>\n",
       "      <td>2.697059e+05</td>\n",
       "      <td>31.796838</td>\n",
       "      <td>19.701191</td>\n",
       "      <td>107.301293</td>\n",
       "    </tr>\n",
       "    <tr>\n",
       "      <th>std</th>\n",
       "      <td>7.497735e+06</td>\n",
       "      <td>61.999944</td>\n",
       "      <td>19.364985</td>\n",
       "      <td>172.979275</td>\n",
       "    </tr>\n",
       "    <tr>\n",
       "      <th>min</th>\n",
       "      <td>3.500000e+01</td>\n",
       "      <td>2.000000</td>\n",
       "      <td>2.000000</td>\n",
       "      <td>1.000000</td>\n",
       "    </tr>\n",
       "    <tr>\n",
       "      <th>25%</th>\n",
       "      <td>3.826500e+03</td>\n",
       "      <td>6.000000</td>\n",
       "      <td>10.000000</td>\n",
       "      <td>19.000000</td>\n",
       "    </tr>\n",
       "    <tr>\n",
       "      <th>50%</th>\n",
       "      <td>1.068900e+04</td>\n",
       "      <td>14.000000</td>\n",
       "      <td>15.000000</td>\n",
       "      <td>47.000000</td>\n",
       "    </tr>\n",
       "    <tr>\n",
       "      <th>75%</th>\n",
       "      <td>3.373975e+04</td>\n",
       "      <td>35.000000</td>\n",
       "      <td>23.000000</td>\n",
       "      <td>116.000000</td>\n",
       "    </tr>\n",
       "    <tr>\n",
       "      <th>max</th>\n",
       "      <td>8.713280e+08</td>\n",
       "      <td>3450.000000</td>\n",
       "      <td>556.000000</td>\n",
       "      <td>1440.000000</td>\n",
       "    </tr>\n",
       "  </tbody>\n",
       "</table>\n",
       "</div>"
      ],
      "text/plain": [
       "             volume  model_height  model_radius      est_time\n",
       "count  2.536400e+04  25364.000000  25364.000000  25364.000000\n",
       "mean   2.697059e+05     31.796838     19.701191    107.301293\n",
       "std    7.497735e+06     61.999944     19.364985    172.979275\n",
       "min    3.500000e+01      2.000000      2.000000      1.000000\n",
       "25%    3.826500e+03      6.000000     10.000000     19.000000\n",
       "50%    1.068900e+04     14.000000     15.000000     47.000000\n",
       "75%    3.373975e+04     35.000000     23.000000    116.000000\n",
       "max    8.713280e+08   3450.000000    556.000000   1440.000000"
      ]
     },
     "execution_count": 86,
     "metadata": {},
     "output_type": "execute_result"
    }
   ],
   "source": [
    "df.describe()"
   ]
  },
  {
   "cell_type": "code",
   "execution_count": 87,
   "id": "earned-phenomenon",
   "metadata": {},
   "outputs": [
    {
     "data": {
      "text/html": [
       "<div>\n",
       "<style scoped>\n",
       "    .dataframe tbody tr th:only-of-type {\n",
       "        vertical-align: middle;\n",
       "    }\n",
       "\n",
       "    .dataframe tbody tr th {\n",
       "        vertical-align: top;\n",
       "    }\n",
       "\n",
       "    .dataframe thead th {\n",
       "        text-align: right;\n",
       "    }\n",
       "</style>\n",
       "<table border=\"1\" class=\"dataframe\">\n",
       "  <thead>\n",
       "    <tr style=\"text-align: right;\">\n",
       "      <th></th>\n",
       "      <th>volume</th>\n",
       "      <th>model_height</th>\n",
       "      <th>model_radius</th>\n",
       "    </tr>\n",
       "    <tr>\n",
       "      <th>filename</th>\n",
       "      <th></th>\n",
       "      <th></th>\n",
       "      <th></th>\n",
       "    </tr>\n",
       "  </thead>\n",
       "  <tbody>\n",
       "    <tr>\n",
       "      <th>stls/1000042.stl</th>\n",
       "      <td>11271</td>\n",
       "      <td>5</td>\n",
       "      <td>26</td>\n",
       "    </tr>\n",
       "    <tr>\n",
       "      <th>stls/1000154.stl</th>\n",
       "      <td>5253</td>\n",
       "      <td>15</td>\n",
       "      <td>10</td>\n",
       "    </tr>\n",
       "    <tr>\n",
       "      <th>stls/1000195.stl</th>\n",
       "      <td>19228</td>\n",
       "      <td>10</td>\n",
       "      <td>24</td>\n",
       "    </tr>\n",
       "    <tr>\n",
       "      <th>stls/1000217.stl</th>\n",
       "      <td>22699</td>\n",
       "      <td>30</td>\n",
       "      <td>15</td>\n",
       "    </tr>\n",
       "    <tr>\n",
       "      <th>stls/1000293.stl</th>\n",
       "      <td>14374</td>\n",
       "      <td>18</td>\n",
       "      <td>15</td>\n",
       "    </tr>\n",
       "    <tr>\n",
       "      <th>...</th>\n",
       "      <td>...</td>\n",
       "      <td>...</td>\n",
       "      <td>...</td>\n",
       "    </tr>\n",
       "    <tr>\n",
       "      <th>stls/999798.stl</th>\n",
       "      <td>8879</td>\n",
       "      <td>10</td>\n",
       "      <td>16</td>\n",
       "    </tr>\n",
       "    <tr>\n",
       "      <th>stls/999836.stl</th>\n",
       "      <td>559</td>\n",
       "      <td>11</td>\n",
       "      <td>3</td>\n",
       "    </tr>\n",
       "    <tr>\n",
       "      <th>stls/999906.stl</th>\n",
       "      <td>353</td>\n",
       "      <td>9</td>\n",
       "      <td>3</td>\n",
       "    </tr>\n",
       "    <tr>\n",
       "      <th>stls/999934.stl</th>\n",
       "      <td>6991</td>\n",
       "      <td>8</td>\n",
       "      <td>16</td>\n",
       "    </tr>\n",
       "    <tr>\n",
       "      <th>stls/999970.stl</th>\n",
       "      <td>11155</td>\n",
       "      <td>16</td>\n",
       "      <td>14</td>\n",
       "    </tr>\n",
       "  </tbody>\n",
       "</table>\n",
       "<p>25364 rows × 3 columns</p>\n",
       "</div>"
      ],
      "text/plain": [
       "                  volume  model_height  model_radius\n",
       "filename                                            \n",
       "stls/1000042.stl   11271             5            26\n",
       "stls/1000154.stl    5253            15            10\n",
       "stls/1000195.stl   19228            10            24\n",
       "stls/1000217.stl   22699            30            15\n",
       "stls/1000293.stl   14374            18            15\n",
       "...                  ...           ...           ...\n",
       "stls/999798.stl     8879            10            16\n",
       "stls/999836.stl      559            11             3\n",
       "stls/999906.stl      353             9             3\n",
       "stls/999934.stl     6991             8            16\n",
       "stls/999970.stl    11155            16            14\n",
       "\n",
       "[25364 rows x 3 columns]"
      ]
     },
     "execution_count": 87,
     "metadata": {},
     "output_type": "execute_result"
    }
   ],
   "source": [
    "from sklearn.model_selection import train_test_split,cross_val_score\n",
    "x_train,x_test,y_train,y_test=train_test_split(x,y,test_size=.2,random_state=42)\n",
    "x"
   ]
  },
  {
   "cell_type": "code",
   "execution_count": 88,
   "id": "comfortable-austria",
   "metadata": {},
   "outputs": [],
   "source": [
    "# from sklearn.neural_network import MLPClassifier\n",
    "# clf=MLPClassifier(solver='adam',alpha=1e-6,hidden_layer_sizes=(20,20),random_state=1,max_iter=1500)\n",
    "# clf.fit(x_train,y_train)\n",
    "# y_predicted=clf.predict(x_test)\n",
    "# y_predicted"
   ]
  },
  {
   "cell_type": "code",
   "execution_count": 89,
   "id": "obvious-listening",
   "metadata": {
    "scrolled": true
   },
   "outputs": [
    {
     "name": "stderr",
     "output_type": "stream",
     "text": [
      "c:\\users\\mathew varghese\\appdata\\local\\programs\\python\\python38\\lib\\site-packages\\sklearn\\utils\\validation.py:63: DataConversionWarning: A column-vector y was passed when a 1d array was expected. Please change the shape of y to (n_samples, ), for example using ravel().\n",
      "  return f(*args, **kwargs)\n"
     ]
    },
    {
     "data": {
      "text/plain": [
       "array([153.87698723,   8.91142526, 361.34570287, ...,  69.91034444,\n",
       "        57.29125159, 288.40431786])"
      ]
     },
     "execution_count": 89,
     "metadata": {},
     "output_type": "execute_result"
    }
   ],
   "source": [
    "from sklearn.ensemble import GradientBoostingRegressor\n",
    "model = GradientBoostingRegressor(random_state=21,alpha=.1)\n",
    "model.fit(x_train,y_train)\n",
    "y_predicted=model.predict(x_test)\n",
    "y_predicted"
   ]
  },
  {
   "cell_type": "code",
   "execution_count": 90,
   "id": "realistic-tomato",
   "metadata": {
    "scrolled": true
   },
   "outputs": [
    {
     "name": "stdout",
     "output_type": "stream",
     "text": [
      "109.0 153.88\n",
      "6.0 8.91\n",
      "701.0 361.35\n",
      "9.0 13.14\n",
      "3.0 8.91\n",
      "4.0 9.26\n",
      "258.0 288.4\n",
      "31.0 55.83\n",
      "42.0 31.84\n",
      "99.0 80.77\n",
      "5.0 606.09\n",
      "20.0 22.77\n",
      "1194.0 765.61\n",
      "20.0 20.75\n",
      "15.0 15.34\n",
      "252.0 719.58\n",
      "13.0 15.78\n",
      "26.0 22.77\n",
      "62.0 137.89\n",
      "115.0 117.64\n",
      "21.0 22.77\n",
      "57.0 76.05\n",
      "107.0 100.73\n",
      "11.0 12.49\n",
      "63.0 114.71\n",
      "36.0 36.55\n",
      "328.0 387.28\n",
      "79.0 104.55\n",
      "444.0 476.72\n",
      "103.0 83.07\n",
      "42.0 37.02\n",
      "767.0 724.05\n",
      "37.0 39.65\n",
      "21.0 53.4\n",
      "32.0 36.33\n",
      "176.0 123.44\n",
      "96.0 108.52\n",
      "18.0 17.49\n",
      "9.0 8.91\n",
      "49.0 53.39\n",
      "10.0 12.25\n",
      "6.0 8.91\n",
      "74.0 60.29\n",
      "17.0 19.14\n",
      "771.0 661.65\n",
      "23.0 22.04\n",
      "26.0 22.21\n",
      "123.0 121.41\n",
      "110.0 124.13\n",
      "112.0 139.5\n"
     ]
    },
    {
     "data": {
      "text/plain": [
       "<matplotlib.collections.PathCollection at 0x21a27efcd60>"
      ]
     },
     "execution_count": 90,
     "metadata": {},
     "output_type": "execute_result"
    },
    {
     "data": {
      "image/png": "[encoded data removed]",
      "text/plain": [
       "<Figure size 432x288 with 1 Axes>"
      ]
     },
     "metadata": {
      "needs_background": "light"
     },
     "output_type": "display_data"
    }
   ],
   "source": [
    "for i in range(0,50):\n",
    "    \n",
    "    print(y_test['est_time'][i], y_predicted[i].round(2))\n",
    "plt.scatter(y_test['est_time'],y_predicted)"
   ]
  },
  {
   "cell_type": "code",
   "execution_count": 91,
   "id": "solved-affair",
   "metadata": {},
   "outputs": [
    {
     "data": {
      "text/plain": [
       "(5073, 1)"
      ]
     },
     "execution_count": 91,
     "metadata": {},
     "output_type": "execute_result"
    }
   ],
   "source": [
    "y_predicted=y_predicted.reshape(-1,1)\n",
    "y_predicted.shape"
   ]
  },
  {
   "cell_type": "code",
   "execution_count": 92,
   "id": "large-lightweight",
   "metadata": {},
   "outputs": [],
   "source": [
    "# import warnings\n",
    "# warnings.filterwarnings('ignore')\n",
    "\n",
    "# from sklearn.metrics import accuracy_score\n",
    "# from sklearn.metrics import log_loss\n",
    "# print('accuracy : ', accuracy_score(y_test,y_predicted))\n",
    "# # print('log loss :',log_loss(y_test,clf.predict_proba(x_test)))\n",
    "# print('cross val score :',cross_val_score(clf, x_test, y_test, cv=5).mean())"
   ]
  },
  {
   "cell_type": "code",
   "execution_count": 94,
   "id": "cordless-nitrogen",
   "metadata": {},
   "outputs": [
    {
     "name": "stdout",
     "output_type": "stream",
     "text": [
      "0.7328581574562603\n"
     ]
    },
    {
     "name": "stderr",
     "output_type": "stream",
     "text": [
      "c:\\users\\mathew varghese\\appdata\\local\\programs\\python\\python38\\lib\\site-packages\\sklearn\\utils\\validation.py:63: DataConversionWarning: A column-vector y was passed when a 1d array was expected. Please change the shape of y to (n_samples, ), for example using ravel().\n",
      "  return f(*args, **kwargs)\n",
      "c:\\users\\mathew varghese\\appdata\\local\\programs\\python\\python38\\lib\\site-packages\\sklearn\\utils\\validation.py:63: DataConversionWarning: A column-vector y was passed when a 1d array was expected. Please change the shape of y to (n_samples, ), for example using ravel().\n",
      "  return f(*args, **kwargs)\n",
      "c:\\users\\mathew varghese\\appdata\\local\\programs\\python\\python38\\lib\\site-packages\\sklearn\\utils\\validation.py:63: DataConversionWarning: A column-vector y was passed when a 1d array was expected. Please change the shape of y to (n_samples, ), for example using ravel().\n",
      "  return f(*args, **kwargs)\n",
      "c:\\users\\mathew varghese\\appdata\\local\\programs\\python\\python38\\lib\\site-packages\\sklearn\\utils\\validation.py:63: DataConversionWarning: A column-vector y was passed when a 1d array was expected. Please change the shape of y to (n_samples, ), for example using ravel().\n",
      "  return f(*args, **kwargs)\n",
      "c:\\users\\mathew varghese\\appdata\\local\\programs\\python\\python38\\lib\\site-packages\\sklearn\\utils\\validation.py:63: DataConversionWarning: A column-vector y was passed when a 1d array was expected. Please change the shape of y to (n_samples, ), for example using ravel().\n",
      "  return f(*args, **kwargs)\n"
     ]
    },
    {
     "data": {
      "text/plain": [
       "0.7111697076292464"
      ]
     },
     "execution_count": 94,
     "metadata": {},
     "output_type": "execute_result"
    }
   ],
   "source": [
    "from sklearn.metrics import mean_squared_error\n",
    "from sklearn.model_selection import cross_val_score\n",
    "\n",
    "\n",
    "math.sqrt(mean_squared_error(y_test, y_predicted))\n",
    "print(model.score(x_test,y_test))\n",
    "cross_val_score(model,x,y,cv=5).mean()\n",
    "\n"
   ]
  },
  {
   "cell_type": "code",
   "execution_count": null,
   "id": "respected-moldova",
   "metadata": {},
   "outputs": [],
   "source": []
  }
 ],
 "metadata": {
  "kernelspec": {
   "display_name": "Python 3",
   "language": "python",
   "name": "python3"
  },
  "language_info": {
   "codemirror_mode": {
    "name": "ipython",
    "version": 3
   },
   "file_extension": ".py",
   "mimetype": "text/x-python",
   "name": "python",
   "nbconvert_exporter": "python",
   "pygments_lexer": "ipython3",
   "version": "3.8.8"
  }
 },
 "nbformat": 4,
 "nbformat_minor": 5
}
