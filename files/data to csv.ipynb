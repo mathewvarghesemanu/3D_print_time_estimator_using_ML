{
 "cells": [
  {
   "cell_type": "code",
   "execution_count": 1,
   "id": "documented-adobe",
   "metadata": {},
   "outputs": [],
   "source": [
    "#reading csv file as a dataframe\n",
    "import pandas as pd\n",
    "import numpy as np\n",
    "import sqlite3\n",
    "\n"
   ]
  },
  {
   "cell_type": "code",
   "execution_count": 2,
   "id": "varying-consciousness",
   "metadata": {},
   "outputs": [
    {
     "data": {
      "text/html": [
       "<div>\n",
       "<style scoped>\n",
       "    .dataframe tbody tr th:only-of-type {\n",
       "        vertical-align: middle;\n",
       "    }\n",
       "\n",
       "    .dataframe tbody tr th {\n",
       "        vertical-align: top;\n",
       "    }\n",
       "\n",
       "    .dataframe thead th {\n",
       "        text-align: right;\n",
       "    }\n",
       "</style>\n",
       "<table border=\"1\" class=\"dataframe\">\n",
       "  <thead>\n",
       "    <tr style=\"text-align: right;\">\n",
       "      <th></th>\n",
       "      <th>filename</th>\n",
       "      <th>volume</th>\n",
       "      <th>model_height</th>\n",
       "      <th>model_radius</th>\n",
       "      <th>infill</th>\n",
       "      <th>layer_height</th>\n",
       "      <th>est_time</th>\n",
       "    </tr>\n",
       "  </thead>\n",
       "  <tbody>\n",
       "    <tr>\n",
       "      <th>0</th>\n",
       "      <td>stls/1000042.stl</td>\n",
       "      <td>11271.939963</td>\n",
       "      <td>5.00</td>\n",
       "      <td>26.787945</td>\n",
       "      <td>20.0</td>\n",
       "      <td>0.2</td>\n",
       "      <td>31.0</td>\n",
       "    </tr>\n",
       "    <tr>\n",
       "      <th>1</th>\n",
       "      <td>stls/1000154.stl</td>\n",
       "      <td>5253.661725</td>\n",
       "      <td>15.80</td>\n",
       "      <td>10.287920</td>\n",
       "      <td>20.0</td>\n",
       "      <td>0.2</td>\n",
       "      <td>38.0</td>\n",
       "    </tr>\n",
       "    <tr>\n",
       "      <th>2</th>\n",
       "      <td>stls/1000195.stl</td>\n",
       "      <td>19228.661398</td>\n",
       "      <td>10.01</td>\n",
       "      <td>24.727633</td>\n",
       "      <td>20.0</td>\n",
       "      <td>0.2</td>\n",
       "      <td>63.0</td>\n",
       "    </tr>\n",
       "    <tr>\n",
       "      <th>3</th>\n",
       "      <td>stls/1000217.stl</td>\n",
       "      <td>22699.229366</td>\n",
       "      <td>30.00</td>\n",
       "      <td>15.519224</td>\n",
       "      <td>20.0</td>\n",
       "      <td>0.2</td>\n",
       "      <td>76.0</td>\n",
       "    </tr>\n",
       "    <tr>\n",
       "      <th>4</th>\n",
       "      <td>stls/1000293.stl</td>\n",
       "      <td>14374.740973</td>\n",
       "      <td>18.00</td>\n",
       "      <td>15.943689</td>\n",
       "      <td>20.0</td>\n",
       "      <td>0.2</td>\n",
       "      <td>64.0</td>\n",
       "    </tr>\n",
       "  </tbody>\n",
       "</table>\n",
       "</div>"
      ],
      "text/plain": [
       "           filename        volume  model_height  model_radius  infill  \\\n",
       "0  stls/1000042.stl  11271.939963          5.00     26.787945    20.0   \n",
       "1  stls/1000154.stl   5253.661725         15.80     10.287920    20.0   \n",
       "2  stls/1000195.stl  19228.661398         10.01     24.727633    20.0   \n",
       "3  stls/1000217.stl  22699.229366         30.00     15.519224    20.0   \n",
       "4  stls/1000293.stl  14374.740973         18.00     15.943689    20.0   \n",
       "\n",
       "   layer_height  est_time  \n",
       "0           0.2      31.0  \n",
       "1           0.2      38.0  \n",
       "2           0.2      63.0  \n",
       "3           0.2      76.0  \n",
       "4           0.2      64.0  "
      ]
     },
     "execution_count": 2,
     "metadata": {},
     "output_type": "execute_result"
    }
   ],
   "source": [
    "connection = sqlite3.connect('data.db')\n",
    "cursor = connection.cursor()\n",
    "df=pd.read_sql_query('select * from print_estimator where est_time is not null and est_time > 0',connection)\n",
    "df.head()\n"
   ]
  },
  {
   "cell_type": "code",
   "execution_count": 23,
   "id": "looking-agenda",
   "metadata": {},
   "outputs": [],
   "source": [
    "df.to_csv(\"time_estimate.csv\")"
   ]
  },
  {
   "cell_type": "code",
   "execution_count": null,
   "id": "miniature-addition",
   "metadata": {},
   "outputs": [],
   "source": []
  }
 ],
 "metadata": {
  "kernelspec": {
   "display_name": "Python 3",
   "language": "python",
   "name": "python3"
  },
  "language_info": {
   "codemirror_mode": {
    "name": "ipython",
    "version": 3
   },
   "file_extension": ".py",
   "mimetype": "text/x-python",
   "name": "python",
   "nbconvert_exporter": "python",
   "pygments_lexer": "ipython3",
   "version": "3.8.8"
  }
 },
 "nbformat": 4,
 "nbformat_minor": 5
}
