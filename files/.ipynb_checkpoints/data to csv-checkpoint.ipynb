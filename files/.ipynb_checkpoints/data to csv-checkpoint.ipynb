{
 "cells": [
  {
   "cell_type": "code",
   "execution_count": 5,
   "id": "documented-adobe",
   "metadata": {},
   "outputs": [],
   "source": [
    "#reading csv file as a dataframe\n",
    "import pandas as pd\n",
    "import numpy as np\n",
    "import sqlite3\n",
    "\n"
   ]
  },
  {
   "cell_type": "code",
   "execution_count": 21,
   "id": "varying-consciousness",
   "metadata": {},
   "outputs": [
    {
     "data": {
      "text/html": [
       "<div>\n",
       "<style scoped>\n",
       "    .dataframe tbody tr th:only-of-type {\n",
       "        vertical-align: middle;\n",
       "    }\n",
       "\n",
       "    .dataframe tbody tr th {\n",
       "        vertical-align: top;\n",
       "    }\n",
       "\n",
       "    .dataframe thead th {\n",
       "        text-align: right;\n",
       "    }\n",
       "</style>\n",
       "<table border=\"1\" class=\"dataframe\">\n",
       "  <thead>\n",
       "    <tr style=\"text-align: right;\">\n",
       "      <th></th>\n",
       "      <th>filename</th>\n",
       "      <th>volume</th>\n",
       "      <th>model_height</th>\n",
       "      <th>model_radius</th>\n",
       "      <th>infill</th>\n",
       "      <th>layer_height</th>\n",
       "      <th>est_time</th>\n",
       "    </tr>\n",
       "  </thead>\n",
       "  <tbody>\n",
       "    <tr>\n",
       "      <th>0</th>\n",
       "      <td>stls/100169.stl</td>\n",
       "      <td>19768.181602</td>\n",
       "      <td>75.423401</td>\n",
       "      <td>9.133881</td>\n",
       "      <td>20.0</td>\n",
       "      <td>0.2</td>\n",
       "      <td>45.0</td>\n",
       "    </tr>\n",
       "    <tr>\n",
       "      <th>1</th>\n",
       "      <td>stls/100251.stl</td>\n",
       "      <td>80350.370909</td>\n",
       "      <td>10.001000</td>\n",
       "      <td>50.570504</td>\n",
       "      <td>20.0</td>\n",
       "      <td>0.2</td>\n",
       "      <td>137.0</td>\n",
       "    </tr>\n",
       "    <tr>\n",
       "      <th>2</th>\n",
       "      <td>stls/100399.stl</td>\n",
       "      <td>177825.686239</td>\n",
       "      <td>7.500000</td>\n",
       "      <td>86.874372</td>\n",
       "      <td>20.0</td>\n",
       "      <td>0.2</td>\n",
       "      <td>442.0</td>\n",
       "    </tr>\n",
       "    <tr>\n",
       "      <th>3</th>\n",
       "      <td>stls/100407.stl</td>\n",
       "      <td>29122.427804</td>\n",
       "      <td>78.000000</td>\n",
       "      <td>10.901633</td>\n",
       "      <td>20.0</td>\n",
       "      <td>0.2</td>\n",
       "      <td>137.0</td>\n",
       "    </tr>\n",
       "    <tr>\n",
       "      <th>4</th>\n",
       "      <td>stls/100448.stl</td>\n",
       "      <td>3100.614134</td>\n",
       "      <td>18.350000</td>\n",
       "      <td>7.333831</td>\n",
       "      <td>20.0</td>\n",
       "      <td>0.2</td>\n",
       "      <td>19.0</td>\n",
       "    </tr>\n",
       "  </tbody>\n",
       "</table>\n",
       "</div>"
      ],
      "text/plain": [
       "          filename         volume  model_height  model_radius  infill  \\\n",
       "0  stls/100169.stl   19768.181602     75.423401      9.133881    20.0   \n",
       "1  stls/100251.stl   80350.370909     10.001000     50.570504    20.0   \n",
       "2  stls/100399.stl  177825.686239      7.500000     86.874372    20.0   \n",
       "3  stls/100407.stl   29122.427804     78.000000     10.901633    20.0   \n",
       "4  stls/100448.stl    3100.614134     18.350000      7.333831    20.0   \n",
       "\n",
       "   layer_height  est_time  \n",
       "0           0.2      45.0  \n",
       "1           0.2     137.0  \n",
       "2           0.2     442.0  \n",
       "3           0.2     137.0  \n",
       "4           0.2      19.0  "
      ]
     },
     "execution_count": 21,
     "metadata": {},
     "output_type": "execute_result"
    }
   ],
   "source": [
    "connection = sqlite3.connect('data.db')\n",
    "cursor = connection.cursor()\n",
    "df=pd.read_sql_query('select * from print_estimator where est_time is not null and est_time > 0',connection)\n",
    "df.head()\n"
   ]
  },
  {
   "cell_type": "code",
   "execution_count": 23,
   "id": "looking-agenda",
   "metadata": {},
   "outputs": [],
   "source": [
    "# df.to_csv(\"time_estimate.csv\")"
   ]
  },
  {
   "cell_type": "code",
   "execution_count": null,
   "id": "miniature-addition",
   "metadata": {},
   "outputs": [],
   "source": []
  }
 ],
 "metadata": {
  "kernelspec": {
   "display_name": "Python 3",
   "language": "python",
   "name": "python3"
  },
  "language_info": {
   "codemirror_mode": {
    "name": "ipython",
    "version": 3
   },
   "file_extension": ".py",
   "mimetype": "text/x-python",
   "name": "python",
   "nbconvert_exporter": "python",
   "pygments_lexer": "ipython3",
   "version": "3.8.8"
  }
 },
 "nbformat": 4,
 "nbformat_minor": 5
}
